{
 "cells": [
  {
   "cell_type": "code",
   "execution_count": 30,
   "metadata": {},
   "outputs": [],
   "source": [
    "import pandas as pd\n",
    "import matplotlib.pyplot as plt\n",
    "import numpy as np \n",
    "import sklearn.linear_model"
   ]
  },
  {
   "cell_type": "code",
   "execution_count": 8,
   "metadata": {},
   "outputs": [],
   "source": [
    "# Replace 'file_path.csv' with the actual file path\n",
    "file_path = r\"oecd_bli_2015.csv\"\n",
    "\n",
    "# Read the CSV file into a DataFrame\n",
    "df_oecd = pd.read_csv(file_path)\n"
   ]
  },
  {
   "cell_type": "code",
   "execution_count": 9,
   "metadata": {},
   "outputs": [
    {
     "name": "stdout",
     "output_type": "stream",
     "text": [
      "<class 'pandas.core.frame.DataFrame'>\n",
      "RangeIndex: 3292 entries, 0 to 3291\n",
      "Data columns (total 17 columns):\n",
      " #   Column                 Non-Null Count  Dtype  \n",
      "---  ------                 --------------  -----  \n",
      " 0   LOCATION               3292 non-null   object \n",
      " 1   Country                3292 non-null   object \n",
      " 2   INDICATOR              3292 non-null   object \n",
      " 3   Indicator              3292 non-null   object \n",
      " 4   MEASURE                3292 non-null   object \n",
      " 5   Measure                3292 non-null   object \n",
      " 6   INEQUALITY             3292 non-null   object \n",
      " 7   Inequality             3292 non-null   object \n",
      " 8   Unit Code              3292 non-null   object \n",
      " 9   Unit                   3292 non-null   object \n",
      " 10  PowerCode Code         3292 non-null   int64  \n",
      " 11  PowerCode              3292 non-null   object \n",
      " 12  Reference Period Code  0 non-null      float64\n",
      " 13  Reference Period       0 non-null      float64\n",
      " 14  Value                  3292 non-null   float64\n",
      " 15  Flag Codes             1120 non-null   object \n",
      " 16  Flags                  1120 non-null   object \n",
      "dtypes: float64(3), int64(1), object(13)\n",
      "memory usage: 437.3+ KB\n"
     ]
    }
   ],
   "source": [
    "df_oecd.info()"
   ]
  },
  {
   "cell_type": "code",
   "execution_count": 10,
   "metadata": {},
   "outputs": [],
   "source": [
    "# File path\n",
    "file = r\"gdp_per_capita.csv\"\n",
    "\n",
    "# Read the CSV file with a specified encoding\n",
    "df_gdp = pd.read_csv(file, sep='\\t', encoding='ISO-8859-1', na_values=\"n/a\")\n",
    "\n"
   ]
  },
  {
   "cell_type": "code",
   "execution_count": 11,
   "metadata": {},
   "outputs": [],
   "source": [
    "def prepare_country_stats(oecd_bli, gdp_per_capita):\n",
    "\n",
    "    oecd_bli = oecd_bli[oecd_bli[\"INEQUALITY\"]==\"TOT\"]\n",
    "\n",
    "    oecd_bli = oecd_bli.pivot(index=\"Country\", columns=\"Indicator\", values=\"Value\")\n",
    "\n",
    "    gdp_per_capita.rename(columns={\"2015\": \"GDP per capita\"}, inplace=True)\n",
    "\n",
    "    gdp_per_capita.set_index(\"Country\", inplace=True)\n",
    "\n",
    "    full_country_stats = pd.merge(left=oecd_bli, right=gdp_per_capita,\n",
    "\n",
    "                                  left_index=True, right_index=True)\n",
    "\n",
    "    full_country_stats.sort_values(by=\"GDP per capita\", inplace=True)\n",
    "\n",
    "    remove_indices = [0, 1, 6, 8, 33, 34, 35]\n",
    "\n",
    "    keep_indices = list(set(range(36)) - set(remove_indices))\n",
    "\n",
    "    return full_country_stats[[\"GDP per capita\", 'Life satisfaction']].iloc[keep_indices]"
   ]
  },
  {
   "cell_type": "code",
   "execution_count": 12,
   "metadata": {},
   "outputs": [],
   "source": [
    "country_df= prepare_country_stats(df_oecd, df_gdp)"
   ]
  },
  {
   "cell_type": "code",
   "execution_count": 13,
   "metadata": {},
   "outputs": [
    {
     "data": {
      "text/html": [
       "<div>\n",
       "<style scoped>\n",
       "    .dataframe tbody tr th:only-of-type {\n",
       "        vertical-align: middle;\n",
       "    }\n",
       "\n",
       "    .dataframe tbody tr th {\n",
       "        vertical-align: top;\n",
       "    }\n",
       "\n",
       "    .dataframe thead th {\n",
       "        text-align: right;\n",
       "    }\n",
       "</style>\n",
       "<table border=\"1\" class=\"dataframe\">\n",
       "  <thead>\n",
       "    <tr style=\"text-align: right;\">\n",
       "      <th></th>\n",
       "      <th>GDP per capita</th>\n",
       "      <th>Life satisfaction</th>\n",
       "    </tr>\n",
       "    <tr>\n",
       "      <th>Country</th>\n",
       "      <th></th>\n",
       "      <th></th>\n",
       "    </tr>\n",
       "  </thead>\n",
       "  <tbody>\n",
       "    <tr>\n",
       "      <th>Poland</th>\n",
       "      <td>12,495.334</td>\n",
       "      <td>5.8</td>\n",
       "    </tr>\n",
       "    <tr>\n",
       "      <th>Chile</th>\n",
       "      <td>13,340.905</td>\n",
       "      <td>6.7</td>\n",
       "    </tr>\n",
       "    <tr>\n",
       "      <th>Slovak Republic</th>\n",
       "      <td>15,991.736</td>\n",
       "      <td>6.1</td>\n",
       "    </tr>\n",
       "    <tr>\n",
       "      <th>Czech Republic</th>\n",
       "      <td>17,256.918</td>\n",
       "      <td>6.5</td>\n",
       "    </tr>\n",
       "    <tr>\n",
       "      <th>Greece</th>\n",
       "      <td>18,064.288</td>\n",
       "      <td>4.8</td>\n",
       "    </tr>\n",
       "    <tr>\n",
       "      <th>Slovenia</th>\n",
       "      <td>20,732.482</td>\n",
       "      <td>5.7</td>\n",
       "    </tr>\n",
       "    <tr>\n",
       "      <th>Spain</th>\n",
       "      <td>25,864.721</td>\n",
       "      <td>6.5</td>\n",
       "    </tr>\n",
       "    <tr>\n",
       "      <th>Korea</th>\n",
       "      <td>27,195.197</td>\n",
       "      <td>5.8</td>\n",
       "    </tr>\n",
       "    <tr>\n",
       "      <th>Italy</th>\n",
       "      <td>29,866.581</td>\n",
       "      <td>6.0</td>\n",
       "    </tr>\n",
       "    <tr>\n",
       "      <th>Japan</th>\n",
       "      <td>32,485.545</td>\n",
       "      <td>5.9</td>\n",
       "    </tr>\n",
       "    <tr>\n",
       "      <th>Israel</th>\n",
       "      <td>35,343.336</td>\n",
       "      <td>7.4</td>\n",
       "    </tr>\n",
       "    <tr>\n",
       "      <th>New Zealand</th>\n",
       "      <td>37,044.891</td>\n",
       "      <td>7.3</td>\n",
       "    </tr>\n",
       "    <tr>\n",
       "      <th>France</th>\n",
       "      <td>37,675.006</td>\n",
       "      <td>6.5</td>\n",
       "    </tr>\n",
       "    <tr>\n",
       "      <th>Belgium</th>\n",
       "      <td>40,106.632</td>\n",
       "      <td>6.9</td>\n",
       "    </tr>\n",
       "    <tr>\n",
       "      <th>Germany</th>\n",
       "      <td>40,996.511</td>\n",
       "      <td>7.0</td>\n",
       "    </tr>\n",
       "    <tr>\n",
       "      <th>Finland</th>\n",
       "      <td>41,973.988</td>\n",
       "      <td>7.4</td>\n",
       "    </tr>\n",
       "    <tr>\n",
       "      <th>Canada</th>\n",
       "      <td>43,331.961</td>\n",
       "      <td>7.3</td>\n",
       "    </tr>\n",
       "    <tr>\n",
       "      <th>Netherlands</th>\n",
       "      <td>43,603.115</td>\n",
       "      <td>7.3</td>\n",
       "    </tr>\n",
       "    <tr>\n",
       "      <th>Austria</th>\n",
       "      <td>43,724.031</td>\n",
       "      <td>6.9</td>\n",
       "    </tr>\n",
       "    <tr>\n",
       "      <th>United Kingdom</th>\n",
       "      <td>43,770.688</td>\n",
       "      <td>6.8</td>\n",
       "    </tr>\n",
       "    <tr>\n",
       "      <th>Sweden</th>\n",
       "      <td>49,866.266</td>\n",
       "      <td>7.2</td>\n",
       "    </tr>\n",
       "    <tr>\n",
       "      <th>Iceland</th>\n",
       "      <td>50,854.583</td>\n",
       "      <td>7.5</td>\n",
       "    </tr>\n",
       "    <tr>\n",
       "      <th>Australia</th>\n",
       "      <td>50,961.865</td>\n",
       "      <td>7.3</td>\n",
       "    </tr>\n",
       "    <tr>\n",
       "      <th>Ireland</th>\n",
       "      <td>51,350.744</td>\n",
       "      <td>7.0</td>\n",
       "    </tr>\n",
       "    <tr>\n",
       "      <th>Denmark</th>\n",
       "      <td>52,114.165</td>\n",
       "      <td>7.5</td>\n",
       "    </tr>\n",
       "    <tr>\n",
       "      <th>United States</th>\n",
       "      <td>55,805.204</td>\n",
       "      <td>7.2</td>\n",
       "    </tr>\n",
       "    <tr>\n",
       "      <th>Norway</th>\n",
       "      <td>74,822.106</td>\n",
       "      <td>7.4</td>\n",
       "    </tr>\n",
       "    <tr>\n",
       "      <th>Brazil</th>\n",
       "      <td>8,669.998</td>\n",
       "      <td>7.0</td>\n",
       "    </tr>\n",
       "    <tr>\n",
       "      <th>Switzerland</th>\n",
       "      <td>80,675.308</td>\n",
       "      <td>7.5</td>\n",
       "    </tr>\n",
       "  </tbody>\n",
       "</table>\n",
       "</div>"
      ],
      "text/plain": [
       "                GDP per capita  Life satisfaction\n",
       "Country                                          \n",
       "Poland              12,495.334                5.8\n",
       "Chile               13,340.905                6.7\n",
       "Slovak Republic     15,991.736                6.1\n",
       "Czech Republic      17,256.918                6.5\n",
       "Greece              18,064.288                4.8\n",
       "Slovenia            20,732.482                5.7\n",
       "Spain               25,864.721                6.5\n",
       "Korea               27,195.197                5.8\n",
       "Italy               29,866.581                6.0\n",
       "Japan               32,485.545                5.9\n",
       "Israel              35,343.336                7.4\n",
       "New Zealand         37,044.891                7.3\n",
       "France              37,675.006                6.5\n",
       "Belgium             40,106.632                6.9\n",
       "Germany             40,996.511                7.0\n",
       "Finland             41,973.988                7.4\n",
       "Canada              43,331.961                7.3\n",
       "Netherlands         43,603.115                7.3\n",
       "Austria             43,724.031                6.9\n",
       "United Kingdom      43,770.688                6.8\n",
       "Sweden              49,866.266                7.2\n",
       "Iceland             50,854.583                7.5\n",
       "Australia           50,961.865                7.3\n",
       "Ireland             51,350.744                7.0\n",
       "Denmark             52,114.165                7.5\n",
       "United States       55,805.204                7.2\n",
       "Norway              74,822.106                7.4\n",
       "Brazil               8,669.998                7.0\n",
       "Switzerland         80,675.308                7.5"
      ]
     },
     "execution_count": 13,
     "metadata": {},
     "output_type": "execute_result"
    }
   ],
   "source": [
    "country_df"
   ]
  },
  {
   "cell_type": "code",
   "execution_count": 14,
   "metadata": {},
   "outputs": [],
   "source": [
    "import numpy as np"
   ]
  },
  {
   "cell_type": "code",
   "execution_count": 34,
   "metadata": {},
   "outputs": [],
   "source": [
    "X=np.c_[country_df[\"GDP per capita\"]]"
   ]
  },
  {
   "cell_type": "code",
   "execution_count": 35,
   "metadata": {},
   "outputs": [],
   "source": [
    "Y=np.c_[country_df[\"Life satisfaction\"]]"
   ]
  },
  {
   "cell_type": "code",
   "execution_count": 36,
   "metadata": {},
   "outputs": [
    {
     "data": {
      "image/png": "[encoded data removed]",
      "text/plain": [
       "<Figure size 432x288 with 1 Axes>"
      ]
     },
     "metadata": {
      "needs_background": "light"
     },
     "output_type": "display_data"
    }
   ],
   "source": [
    "country_df.plot(kind=\"scatter\" ,x=\"GDP per capita\",y=\"Life satisfaction\")\n",
    "plt.show()"
   ]
  },
  {
   "cell_type": "code",
   "execution_count": 37,
   "metadata": {},
   "outputs": [],
   "source": [
    "from sklearn.linear_model import LinearRegression\n"
   ]
  },
  {
   "cell_type": "code",
   "execution_count": 40,
   "metadata": {},
   "outputs": [
    {
     "data": {
      "text/plain": [
       "LinearRegression()"
      ]
     },
     "execution_count": 40,
     "metadata": {},
     "output_type": "execute_result"
    }
   ],
   "source": [
    "model=sklearn.linear_model.LinearRegression()\n",
    "\n",
    "#Step: Training of the model\n",
    "model.fit(X,Y)"
   ]
  },
  {
   "cell_type": "code",
   "execution_count": 43,
   "metadata": {},
   "outputs": [
    {
     "name": "stdout",
     "output_type": "stream",
     "text": [
      "[4.274]\n"
     ]
    }
   ],
   "source": [
    "#Make a prediction for a specific country\n",
    "\n",
    "X_bis = [[1000]]\n",
    "print(model.predict(X_bis))"
   ]
  },
  {
   "cell_type": "code",
   "execution_count": null,
   "metadata": {},
   "outputs": [
    {
     "name": "stdout",
     "output_type": "stream",
     "text": [
      "L'équation de la droite est : y = 0.00x + 4.20\n"
     ]
    },
    {
     "data": {
      "image/png": "[encoded data removed]",
      "text/plain": [
       "<Figure size 432x288 with 1 Axes>"
      ]
     },
     "metadata": {
      "needs_background": "light"
     },
     "output_type": "display_data"
    }
   ],
   "source": [
    "\"\"\"import numpy as np\n",
    "import matplotlib.pyplot as plt\n",
    "from sklearn.linear_model import LinearRegression\n",
    "\n",
    "# Exemple de données\n",
    "x = np.array([40000, 45000, 30000, 35000, 50000])  # PIB par habitant\n",
    "y = np.array([7, 7.5, 6.5, 6.8, 8])  # Satisfaction de vie\n",
    "\n",
    "# Reshape des données (scikit-learn attend une matrice 2D pour les features)\n",
    "X = x.reshape(-1, 1)  # Transforme x en colonne 2D\n",
    "Y = y  # Pas besoin de reshaper pour la cible\n",
    "\n",
    "# Entraîner le modèle de régression linéaire\n",
    "model = LinearRegression()\n",
    "model.fit(X, Y)\n",
    "\n",
    "# Récupérer les coefficients\n",
    "a = model.coef_[0]  # Pente\n",
    "b = model.intercept_  # Ordonnée à l'origine\n",
    "\n",
    "# Afficher l'équation de la droite\n",
    "print(f\"L'équation de la droite est : y = {a:.2f}x + {b:.2f}\")\n",
    "\n",
    "# Générer des prédictions pour tracer la droite\n",
    "x_line = np.linspace(X.min(), X.max(), 100).reshape(-1, 1)  # Génère des valeurs régulières pour x\n",
    "y_line = model.predict(x_line)  # Calcule les y correspondants\n",
    "\n",
    "# Visualisation\n",
    "plt.scatter(x, y, color=\"green\", label=\"Points de données\")  # Points d'origine\n",
    "plt.plot(x_line, y_line, color=\"blue\", label=f\"Droite de régression (y={a:.2f}x + {b:.2f})\")  # Droite\n",
    "plt.title(\"Régression linéaire avec scikit-learn\")\n",
    "plt.xlabel(\"PIB par habitant\")\n",
    "plt.ylabel(\"Satisfaction de vie\")\n",
    "plt.legend()\n",
    "plt.grid()\n",
    "plt.show()\"\"\"\n"
   ]
  },
  {
   "cell_type": "code",
   "execution_count": null,
   "metadata": {},
   "outputs": [],
   "source": [
    "# make a prediction \n"
   ]
  }
 ],
 "metadata": {
  "kernelspec": {
   "display_name": "base",
   "language": "python",
   "name": "python3"
  },
  "language_info": {
   "codemirror_mode": {
    "name": "ipython",
    "version": 3
   },
   "file_extension": ".py",
   "mimetype": "text/x-python",
   "name": "python",
   "nbconvert_exporter": "python",
   "pygments_lexer": "ipython3",
   "version": "3.9.7"
  }
 },
 "nbformat": 4,
 "nbformat_minor": 2
}
